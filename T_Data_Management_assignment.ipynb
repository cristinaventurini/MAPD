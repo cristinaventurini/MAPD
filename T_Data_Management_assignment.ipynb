{
 "cells": [
  {
   "cell_type": "markdown",
   "metadata": {},
   "source": [
    "# Final Assignment of Management and Analysis of Physics Dataset\n",
    "\n",
    "## Data Management\n",
    "***"
   ]
  },
  {
   "cell_type": "markdown",
   "metadata": {},
   "source": [
    "#### Fun Exercise\n",
    "\n",
    "$2 + 1 \\to 10 + 01 = 11 \\to 3$ <br>\n",
    "$2 + 5 \\to 010 + 101 = 111 \\to 7$ <br>\n",
    "$3 + 7 \\to 011 + 111 = 100 \\to 4$ <br>\n",
    "$4 + 5 \\to 100 + 101 = 001 \\to 1$ <br>\n",
    "$5 + 9 \\to 0101 + 1001 = 1100 \\to 12$ <br>\n",
    "$+$ is the xor operation (digit-wise) of the binary representation\n",
    "\n",
    "***"
   ]
  },
  {
   "cell_type": "markdown",
   "metadata": {},
   "source": [
    "## 3. Object Storage\n",
    "\n",
    "In an object storage system we are mapping objects by name to locations using a hash table.\n",
    "Imagine we have a system with ten hard disks ($10$ locations). We enumerate the location of a file using an index of the hard disk $[0,\\dots,9]$.\n",
    "Our hash algorithm for placement produces hashes which are distributed uniform over the value space for a flat input key distribution.\n",
    "We want now to simulate the behaviour of our hash algorithm without the need to actually compute any hash value.\n",
    "Instead of using real filenames, which we would hash and map using a hash table to a location (as we did in the exercise), we are ‘computing’ a location for ‘any’ file by generating a random number for the location in the range $[0,\\dots,9]$ to assign a file location. To place a file in the storage system we use this random location where the file will be stored and consumes space.\n",
    "            \n",
    "Assume each disk has $1\\,$TB of space, we have $10\\,$TB in total.\n",
    "Place as many files of $10\\,$GB size as possible to hard disks choosing random locations until one hard disk is full.\n",
    "Hint: a hard disk is full once you have stored hundred $10\\,$GB files.\n",
    "\n",
    "1. Write a program in Python, R or using ROOT, which simulates the placement of $10\\,$GB files to random locations and account the used space on each hard disk. Once the first hard disk is full, you stop to place files.\n",
    "Remark: the distribution changes every time if the random generator is not seeded always with the same start value. Nevertheless both ways are accepted!\n",
    "    1. How many files did you manage to place?\n",
    "    2. What is the percentage of total used space on all hard disks in the moment the first disk is full?\n",
    "    \n",
    "2. Repeat the same task placing $1\\,$GB files until the first hard disk is full.\n",
    "    1. How many files did you manage to place?\n",
    "    2. What is the percentage of total used space on all hard disks in the moment the first disk is full?\n",
    "3. Based on this observation: why do you think object storage typically stores fixed size blocks of $4\\,$M and not files of GBs size as a whole? (so called block storage approach)\n",
    "Run the same program for $4\\,$M block sizes and demonstrate the benefits\n",
    "4. Compute the average used space on all hard disks and the standard deviation for the average used space for $10\\,$GB and $1\\,$GB and $4\\,$M files. How is the standard deviation correlated to the block size and why?\n",
    "If we now repeat such an experiment for many more (thousands) of hard disks, which kind of distribution do you get when you do a histogram of the used space of all hard disks?"
   ]
  },
  {
   "cell_type": "code",
   "execution_count": 1,
   "metadata": {},
   "outputs": [],
   "source": [
    "import numpy as np\n",
    "from matplotlib import pyplot as plt"
   ]
  },
  {
   "cell_type": "code",
   "execution_count": 2,
   "metadata": {},
   "outputs": [
    {
     "data": {
      "image/png": "[encoded data removed]",
      "text/plain": [
       "<Figure size 432x288 with 1 Axes>"
      ]
     },
     "metadata": {
      "needs_background": "light"
     },
     "output_type": "display_data"
    },
    {
     "name": "stdout",
     "output_type": "stream",
     "text": [
      "Total number of stored files: 829\n",
      "Percentage of total used space: 82.90\n",
      "Average used space (GB):  829.0 \tstd: 113.61778029868388\n",
      "Average used space (nfiles):  82.9 \tstd: 11.361778029868388 \tsqrt(avg): 9.10494371207203\n"
     ]
    }
   ],
   "source": [
    "np.random.seed(12345)\n",
    "\n",
    "storage = np.zeros((10))\n",
    "files_count = 0\n",
    "block_size = 10\n",
    "nblock = int(1000/block_size)\n",
    "\n",
    "i = np.random.randint(0,10,nblock*10)\n",
    "\n",
    "while np.all(storage < nblock):\n",
    "    #i = np.random.randint(0,10,1)\n",
    "    storage[i[files_count]] += 1\n",
    "    files_count += 1\n",
    "    \n",
    "plt.bar([i for i in range(10)], storage)\n",
    "plt.show()\n",
    "print('Total number of stored files:',files_count)\n",
    "print('Percentage of total used space: %.2f'%(files_count/nblock/10*100))\n",
    "print('Average used space (GB): ',storage.mean()*block_size,'\\tstd:',storage.std()*block_size)\n",
    "print('Average used space (nfiles): ',storage.mean(),'\\tstd:',storage.std(),'\\tsqrt(avg):',np.sqrt(storage.mean()))"
   ]
  },
  {
   "cell_type": "code",
   "execution_count": 3,
   "metadata": {},
   "outputs": [
    {
     "data": {
      "image/png": "[encoded data removed]",
      "text/plain": [
       "<Figure size 432x288 with 1 Axes>"
      ]
     },
     "metadata": {
      "needs_background": "light"
     },
     "output_type": "display_data"
    },
    {
     "name": "stdout",
     "output_type": "stream",
     "text": [
      "Total number of stored files: 9630\n",
      "Percentage of total used space: 96.30\n",
      "Average used space (GB):  963.0 \tstd: 29.281393409467384\n",
      "Average used space (nfiles):  963.0 \tstd: 29.281393409467384 \tsqrt(avg): 31.0322412983658\n"
     ]
    }
   ],
   "source": [
    "np.random.seed(12345)\n",
    "\n",
    "storage = np.zeros((10))\n",
    "files_count = 0\n",
    "block_size = 1\n",
    "nblock = int(1000/block_size)\n",
    "\n",
    "i = np.random.randint(0,10,nblock*10)\n",
    "\n",
    "while np.all(storage < nblock):\n",
    "    #i = np.random.randint(0,10,1)\n",
    "    storage[i[files_count]] += 1\n",
    "    files_count += 1\n",
    "    \n",
    "plt.bar([i for i in range(10)], storage)\n",
    "plt.show()\n",
    "print('Total number of stored files:',files_count)\n",
    "print('Percentage of total used space: %.2f'%(files_count/nblock/10*100))\n",
    "print('Average used space (GB): ',storage.mean()*block_size,'\\tstd:',storage.std()*block_size)\n",
    "print('Average used space (nfiles): ',storage.mean(),'\\tstd:',storage.std(),'\\tsqrt(avg):',np.sqrt(storage.mean()))"
   ]
  },
  {
   "cell_type": "code",
   "execution_count": 4,
   "metadata": {},
   "outputs": [
    {
     "data": {
      "image/png": "[encoded data removed]",
      "text/plain": [
       "<Figure size 432x288 with 1 Axes>"
      ]
     },
     "metadata": {
      "needs_background": "light"
     },
     "output_type": "display_data"
    },
    {
     "name": "stdout",
     "output_type": "stream",
     "text": [
      "Total number of stored files: 2491278\n",
      "Percentage of total used space: 99.65\n",
      "Average used space (GB):  996.5112 \tstd: 2.1825928067323965\n",
      "Average used space (nfiles):  249127.8 \tstd: 545.6482016830992 \tsqrt(avg): 499.127037937237\n"
     ]
    }
   ],
   "source": [
    "np.random.seed(12345)\n",
    "\n",
    "storage = np.zeros((10))\n",
    "files_count = 0\n",
    "block_size = 0.004\n",
    "nblock = int(1000/block_size)\n",
    "\n",
    "i = np.random.randint(0,10,nblock*10)\n",
    "\n",
    "while np.all(storage < nblock):\n",
    "    #i = np.random.randint(0,10,1)\n",
    "    storage[i[files_count]] += 1\n",
    "    files_count += 1\n",
    "    \n",
    "plt.bar([i for i in range(10)], storage)\n",
    "plt.show()\n",
    "print('Total number of stored files:',files_count)\n",
    "print('Percentage of total used space: %.2f'%(files_count/nblock/10*100))\n",
    "print('Average used space (GB): ',storage.mean()*block_size,'\\tstd:',storage.std()*block_size)\n",
    "print('Average used space (nfiles): ',storage.mean(),'\\tstd:',storage.std(),'\\tsqrt(avg):',np.sqrt(storage.mean()))"
   ]
  },
  {
   "cell_type": "markdown",
   "metadata": {},
   "source": [
    "Using smaller blocks allows to have a greater sample and so a better approximation of the distribution (uniform in this case). However this also increases the number of blocks to be read given a certain amount of data. The size of $4\\,$M is a tradeoff between these two situations. Moreover the usage of fixed size blocks makes the storage system suitable for applying useful techniques such as striping that can increase the performance and reliability of the system.\n",
    "\n",
    "The standard deviation of the number of files in a hard disk goes with the square root of the average number of files, so it increases reducing the block size. The standard deviation of the used storage however is derived by the previous one by multiplying it with the blocksize. With respect to the number of blocks the block size decreases linearly, while the standard deviation increases with a $1/2$ power-law, resulting in a reduction of the standard deviation of the used storage per disk.\n",
    "\n",
    "The shape of the distribution, so the way the sample reproduce the uniform distribution, depends both on the total number of samples (blocks) but also on the ratio between the number of blocks in a single disk and the total number of disks. This is because we have a ceiling in the number of \"extraction\", i.e. we have to stop when a disk is full. In fact the distribution must be sampled extensively over all the disks before one of them reaches completion, this could be achieved either by decreasing even more the size of the blocks or by increasing the capacity of a single disk."
   ]
  },
  {
   "cell_type": "markdown",
   "metadata": {},
   "source": [
    "## 4. REST APIs & Block Chain Technology\n",
    "\n",
    "1. Assuming the time for POST to be negligible (and hash computation time on the server side to be less than the *Proof of time* of $10\\,s$) than the number of transaction per day is constrained by the *Proof of Time* interval of $10\\,s$, resulting in $8640$ transaction per day.\n",
    "\n",
    "2. This function takes a generic input file and returns a 256 bits word (visualized in hexadecimal representation). The funtion is designed in such a way that: it is very difficult to invert, a small change in the input produces a large change in the output, the cases of two element of the domain having the same image are very rare. These features make it suitable for file validation as the file can remain open to the public while the hash is protected and used to check the validity of the file (the advantage resides in the smallness and fixed length of the hash). In the blockchain it plays a key role in enabling the cross-control of the content of a node by the others.\n",
    "\n",
    "3. I can go through the nodes of the blockchain and for every node calculate the hash of the content and checking it with the one saved in the following node, and so on until the end\n",
    "\n",
    "4. The GET REST API involves an exchange of a JSON file that has a length approximately proportional to the number of transactions, so the execution time increases with the number of transaction as $\\mathcal{O}(n)$. POST on the other hand involves, both for **merit** and **claim**, the exchange of a JSON file of fixed length. As a consequence the execution time is constant with respect to the number of transaction: $\\mathcal{O}(1)$.\n",
    "\n",
    "5. Every block contains the information on a transaction up to the first which contains the intial state of the chain, i.e. the total amount of coins and and their belonging to the *genesis* account. Then the account balances can be reconstructed going through all the history of the transactions saved in the chain.\n",
    "\n",
    "6. Advantages: easy to use and no need for complex infrastructure (https protocol is widespread and just a web client is needed), JSON is an easy to read format. Disadvantages: not so secure, JSON is not efficient in storing informations."
   ]
  },
  {
   "cell_type": "markdown",
   "metadata": {},
   "source": [
    "info su `request` package [here](https://realpython.com/python-requests/#status-codes)"
   ]
  },
  {
   "cell_type": "code",
   "execution_count": 20,
   "metadata": {},
   "outputs": [
    {
     "name": "stderr",
     "output_type": "stream",
     "text": [
      "/Users/tommaso/anaconda3/lib/python3.8/site-packages/urllib3/connectionpool.py:981: InsecureRequestWarning: Unverified HTTPS request is being made to host 'pansophy.app'. Adding certificate verification is strongly advised. See: https://urllib3.readthedocs.io/en/latest/advanced-usage.html#ssl-warnings\n",
      "  warnings.warn(\n",
      "/Users/tommaso/anaconda3/lib/python3.8/site-packages/urllib3/connectionpool.py:981: InsecureRequestWarning: Unverified HTTPS request is being made to host 'pansophy.app'. Adding certificate verification is strongly advised. See: https://urllib3.readthedocs.io/en/latest/advanced-usage.html#ssl-warnings\n",
      "  warnings.warn(\n",
      "/Users/tommaso/anaconda3/lib/python3.8/site-packages/urllib3/connectionpool.py:981: InsecureRequestWarning: Unverified HTTPS request is being made to host 'pansophy.app'. Adding certificate verification is strongly advised. See: https://urllib3.readthedocs.io/en/latest/advanced-usage.html#ssl-warnings\n",
      "  warnings.warn(\n",
      "/Users/tommaso/anaconda3/lib/python3.8/site-packages/urllib3/connectionpool.py:981: InsecureRequestWarning: Unverified HTTPS request is being made to host 'pansophy.app'. Adding certificate verification is strongly advised. See: https://urllib3.readthedocs.io/en/latest/advanced-usage.html#ssl-warnings\n",
      "  warnings.warn(\n"
     ]
    },
    {
     "name": "stdout",
     "output_type": "stream",
     "text": [
      "{'21centurysboys': 1, 'AC Milan': 1, 'Andreas J. Peters': 1, 'BellaFra': 1, 'BellaZio': 1, 'CANE': 999922, 'CCTS': 3, 'FaoTom': 1, 'Fogliame': 1, 'GioC': 1, 'Giovanni': 1, 'GitPush': 1, 'LorenzoDomenichetti': 8, 'LuPi AndAle': 1, 'Oesais': 1, 'PM': 1, 'PaoloMuschio': 1, 'Team1': 1, 'bellaZio': 1, 'genesis': 1, 'whitenoisematters': 50}\n"
     ]
    }
   ],
   "source": [
    "import requests\n",
    "import time\n",
    "\n",
    "url = 'https://pansophy.app:8443'\n",
    "\n",
    "selected_account = 'genesis'\n",
    "merit = {\n",
    "        'operation': 'merit',\n",
    "        'team': 'CCTS',\n",
    "        'coin': 1,\n",
    "        'stealfrom': selected_account\n",
    "        }\n",
    "\n",
    "claim = {\n",
    "        'operation':'claim',\n",
    "        'team':'CCTS'\n",
    "        }\n",
    "\n",
    "n_transaction = 1\n",
    "for i in range(n_transaction):\n",
    "    state = requests.get(url, verify=False)\n",
    "    \n",
    "    if state.status_code != 200:\n",
    "        print('error occurred during get')\n",
    "        break\n",
    "    \n",
    "    json_state = state.json()\n",
    "    top = 0\n",
    "    for account, coin in json_state['accounts'].items():\n",
    "        if top < coin:\n",
    "            top = coin\n",
    "            selected_account = account\n",
    "    if json_state['accounts'][selected_account] == 1:\n",
    "        print('blockchain saturated')\n",
    "        break\n",
    "    \n",
    "    merit['stealfrom'] = selected_account\n",
    "    \n",
    "    requests.post(url, json=merit, verify=False)\n",
    "    time.sleep(10)\n",
    "    requests.post(url, json=claim, verify=False)\n",
    "    \n",
    "print(requests.get(url, verify=False).json()['accounts'])"
   ]
  }
 ],
 "metadata": {
  "kernelspec": {
   "display_name": "Python 3",
   "language": "python",
   "name": "python3"
  },
  "language_info": {
   "codemirror_mode": {
    "name": "ipython",
    "version": 3
   },
   "file_extension": ".py",
   "mimetype": "text/x-python",
   "name": "python",
   "nbconvert_exporter": "python",
   "pygments_lexer": "ipython3",
   "version": "3.8.8"
  }
 },
 "nbformat": 4,
 "nbformat_minor": 4
}
